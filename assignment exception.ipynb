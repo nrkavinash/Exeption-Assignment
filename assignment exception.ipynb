{
 "cells": [
  {
   "cell_type": "markdown",
   "id": "5edf3d42-3533-458f-9758-c7ffc10c3dc7",
   "metadata": {},
   "source": [
    "## Q2 Answer"
   ]
  },
  {
   "cell_type": "code",
   "execution_count": 1,
   "id": "cbf08c70-7165-4394-a466-07590f986ec8",
   "metadata": {},
   "outputs": [],
   "source": [
    "def divide(a,b):\n",
    "    try:\n",
    "        result = a / b\n",
    "    except ZeroDivisionError:\n",
    "        print(\"division by zero!\")\n",
    "    else:\n",
    "        print(\"result is\", result)\n",
    "    finally:\n",
    "        print(\"executing finally clause\")\n"
   ]
  },
  {
   "cell_type": "code",
   "execution_count": 5,
   "id": "6ed69b97-1df3-40f6-b8b9-039bedcb41e4",
   "metadata": {},
   "outputs": [
    {
     "name": "stdout",
     "output_type": "stream",
     "text": [
      "result is 2.0\n",
      "executing finally clause\n"
     ]
    }
   ],
   "source": [
    "divide(2,1)"
   ]
  },
  {
   "cell_type": "code",
   "execution_count": 6,
   "id": "f2e0083d-6057-44d0-98b3-c1531c117d88",
   "metadata": {},
   "outputs": [
    {
     "name": "stdout",
     "output_type": "stream",
     "text": [
      "result is 0.0\n",
      "executing finally clause\n"
     ]
    }
   ],
   "source": [
    "divide(0,1)"
   ]
  },
  {
   "cell_type": "markdown",
   "id": "12a09520-fe37-4a90-beb6-7014bc8faaff",
   "metadata": {},
   "source": [
    "## Q3 Answer"
   ]
  },
  {
   "cell_type": "code",
   "execution_count": null,
   "id": "fb5453d0-7ea6-4f6f-9567-7d961083ac8e",
   "metadata": {},
   "outputs": [
    {
     "name": "stdout",
     "output_type": "stream",
     "text": [
      "try block\n"
     ]
    },
    {
     "name": "stdin",
     "output_type": "stream",
     "text": [
      "Enter a number:  8\n",
      "Enter another number:  4\n"
     ]
    },
    {
     "name": "stdout",
     "output_type": "stream",
     "text": [
      "Divison =  2.0\n"
     ]
    }
   ],
   "source": [
    "try:\n",
    "    print('try block')\n",
    "    x=int(input('Enter a number: '))\n",
    "    y=int(input('Enter another number: '))\n",
    "    z=x/y\n",
    "except ZeroDivisionError:\n",
    "    print(\"except ZeroDivisionError block\")\n",
    "    print(\"Division by 0 not accepted\")\n",
    "else:\n",
    "    print(\"Divison = \",z)"
   ]
  },
  {
   "cell_type": "markdown",
   "id": "379701f5-5d49-40ad-84e8-acd98b150e20",
   "metadata": {},
   "source": [
    "## Q4 Answer"
   ]
  },
  {
   "cell_type": "code",
   "execution_count": 14,
   "id": "9d15a861-d4fa-4a20-a789-09bc5621052e",
   "metadata": {},
   "outputs": [
    {
     "name": "stdout",
     "output_type": "stream",
     "text": [
      "there are some branches with the name pwskills  [Errno 2] No such file or directory: 'test1.txt'\n",
      "if you want you can also join\n"
     ]
    }
   ],
   "source": [
    "try:\n",
    "    f = open(\"test1.txt\" , 'r')\n",
    "    f.write(\"this is our pwskills\")\n",
    "\n",
    "except Exception as e :\n",
    "    print(\"there are some branches with the name pwskills \", e)\n",
    "else : \n",
    "        f.close()\n",
    "        print(\"in that i choosen the Data science Master Course\")\n",
    "        \n",
    "finally :\n",
    "    \n",
    "    print(\"if you want you can also join\")"
   ]
  },
  {
   "cell_type": "markdown",
   "id": "7ac39452-91c0-4de3-ad21-5955de5f1a89",
   "metadata": {},
   "source": [
    "## Q5 Answer"
   ]
  },
  {
   "cell_type": "code",
   "execution_count": 34,
   "id": "2819e509-94fb-4ace-b1ed-70943da19d29",
   "metadata": {},
   "outputs": [],
   "source": [
    "class cricket_team(Exception):\n",
    "    def __init__(self,msg):\n",
    "        self.msg = msg   \n",
    "    "
   ]
  },
  {
   "cell_type": "code",
   "execution_count": 38,
   "id": "c84d5ba7-9e8d-4b38-bae6-62d324e689a7",
   "metadata": {},
   "outputs": [],
   "source": [
    "def Cricket_Team (no_of_players):\n",
    "        if no_of_players<11:\n",
    "            raise cricket_team(\"Team Can't play without 11 members\")\n",
    "        elif no_of_players>11:\n",
    "            raise cricket_team(\"Team can play match with only 11 members remaining players are on bench\")\n",
    "        else:\n",
    "            (\"need at least 11 members to play\")"
   ]
  },
  {
   "cell_type": "code",
   "execution_count": 39,
   "id": "ab002196-122f-426b-8629-b855370e5395",
   "metadata": {},
   "outputs": [
    {
     "name": "stdin",
     "output_type": "stream",
     "text": [
      "playing team members 15\n"
     ]
    },
    {
     "name": "stdout",
     "output_type": "stream",
     "text": [
      "Team can play match with only 11 members remaining players are on bench\n"
     ]
    }
   ],
   "source": [
    "try:\n",
    "    no_of_players = int(input(\"playing team members\"))\n",
    "    Cricket_Team (no_of_players)\n",
    "except cricket_team as e:\n",
    "    print(e)"
   ]
  },
  {
   "cell_type": "code",
   "execution_count": null,
   "id": "518a1073-762b-492f-9855-c615e6cef062",
   "metadata": {},
   "outputs": [
    {
     "name": "stdin",
     "output_type": "stream",
     "text": [
      "playing team members 10\n"
     ]
    },
    {
     "name": "stdout",
     "output_type": "stream",
     "text": [
      "Team Can't play without 11 members\n"
     ]
    }
   ],
   "source": [
    "try:\n",
    "    no_of_players = int(input(\"playing team members\"))\n",
    "    Cricket_Team (no_of_players)\n",
    "except cricket_team as e:\n",
    "    print(e)"
   ]
  },
  {
   "cell_type": "markdown",
   "id": "71a69b27-ef25-446b-b96b-32f7f761650a",
   "metadata": {},
   "source": [
    "## Q6 Answer"
   ]
  },
  {
   "cell_type": "code",
   "execution_count": 42,
   "id": "a73b9073-3a1b-41a2-b5c8-f56a1df45b53",
   "metadata": {},
   "outputs": [
    {
     "name": "stdin",
     "output_type": "stream",
     "text": [
      "Enter a number:  15\n"
     ]
    },
    {
     "name": "stdout",
     "output_type": "stream",
     "text": [
      "Exception occurred: Invalid Age\n"
     ]
    }
   ],
   "source": [
    "class InvalidAgeException(Exception):\n",
    "    pass\n",
    "\n",
    "number =18\n",
    "\n",
    "try:\n",
    "    input_num = int(input(\"Enter a number: \"))\n",
    "    if input_num < number:\n",
    "        raise InvalidAgeException\n",
    "    else:\n",
    "        print(\"Eligible to Vote\")\n",
    "        \n",
    "except InvalidAgeException:\n",
    "    print(\"Exception occurred: Invalid Age\")\n"
   ]
  },
  {
   "cell_type": "code",
   "execution_count": null,
   "id": "2b4cc2c7-4083-4cc9-9b02-a9ca5a306616",
   "metadata": {},
   "outputs": [],
   "source": []
  }
 ],
 "metadata": {
  "kernelspec": {
   "display_name": "Python 3 (ipykernel)",
   "language": "python",
   "name": "python3"
  },
  "language_info": {
   "codemirror_mode": {
    "name": "ipython",
    "version": 3
   },
   "file_extension": ".py",
   "mimetype": "text/x-python",
   "name": "python",
   "nbconvert_exporter": "python",
   "pygments_lexer": "ipython3",
   "version": "3.10.8"
  }
 },
 "nbformat": 4,
 "nbformat_minor": 5
}
